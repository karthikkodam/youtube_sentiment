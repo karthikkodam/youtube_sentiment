{
 "cells": [
  {
   "cell_type": "markdown",
   "metadata": {
    "id": "Yo3M8Ok374Qt"
   },
   "source": [
    "## EXploring"
   ]
  },
  {
   "cell_type": "code",
   "execution_count": 1,
   "metadata": {
    "id": "iQ6HSq-BsuSa"
   },
   "outputs": [],
   "source": [
    "import requests\n",
    "import os\n",
    "import re\n",
    "import logging\n",
    "import textwrap\n",
    "import matplotlib.pyplot as plt\n",
    "import pandas as pd\n",
    "from googleapiclient.discovery import build\n",
    "from transformers import pipeline\n",
    "# from dotenv import load_dotenv\n",
    "\n",
    "from IPython.display import JSON"
   ]
  },
  {
   "cell_type": "code",
   "execution_count": 2,
   "metadata": {
    "id": "tmq5vf73skdE"
   },
   "outputs": [],
   "source": [
    "from google.colab import userdata\n",
    "yt_api = userdata.get('youtube_api')"
   ]
  },
  {
   "cell_type": "code",
   "execution_count": 3,
   "metadata": {
    "colab": {
     "base_uri": "https://localhost:8080/",
     "height": 1000
    },
    "collapsed": true,
    "id": "oGM271hindPE",
    "outputId": "9dac87ad-cc76-48ef-82d2-f3fa0ab53182"
   },
   "outputs": [
    {
     "data": {
      "application/json": {
       "etag": "NRVCjJ3w9lVvWSjxYZGNSm-sz3I",
       "items": [
        {
         "contentDetails": {
          "relatedPlaylists": {
           "likes": "",
           "uploads": "UU_x5XG1OV2P6uZZ5FSM9Ttw"
          }
         },
         "etag": "fAsKh_HgmI7OvxjI7WoHn5kMHOA",
         "id": "UC_x5XG1OV2P6uZZ5FSM9Ttw",
         "kind": "youtube#channel",
         "snippet": {
          "country": "US",
          "customUrl": "@googledevelopers",
          "description": "Subscribe to join a community of creative developers and learn the latest in Google technology — from AI and cloud, to mobile and web.\n\nExplore more at developers.google.com\n\n",
          "localized": {
           "description": "Subscribe to join a community of creative developers and learn the latest in Google technology — from AI and cloud, to mobile and web.\n\nExplore more at developers.google.com\n\n",
           "title": "Google for Developers"
          },
          "publishedAt": "2007-08-23T00:34:43Z",
          "thumbnails": {
           "default": {
            "height": 88,
            "url": "https://yt3.ggpht.com/2eI1TjX447QZFDe6R32K0V2mjbVMKT5mIfQR-wK5bAsxttS_7qzUDS1ojoSKeSP0NuWd6sl7qQ=s88-c-k-c0x00ffffff-no-rj",
            "width": 88
           },
           "high": {
            "height": 800,
            "url": "https://yt3.ggpht.com/2eI1TjX447QZFDe6R32K0V2mjbVMKT5mIfQR-wK5bAsxttS_7qzUDS1ojoSKeSP0NuWd6sl7qQ=s800-c-k-c0x00ffffff-no-rj",
            "width": 800
           },
           "medium": {
            "height": 240,
            "url": "https://yt3.ggpht.com/2eI1TjX447QZFDe6R32K0V2mjbVMKT5mIfQR-wK5bAsxttS_7qzUDS1ojoSKeSP0NuWd6sl7qQ=s240-c-k-c0x00ffffff-no-rj",
            "width": 240
           }
          },
          "title": "Google for Developers"
         },
         "statistics": {
          "hiddenSubscriberCount": false,
          "subscriberCount": "2500000",
          "videoCount": "6623",
          "viewCount": "364918053"
         }
        }
       ],
       "kind": "youtube#channelListResponse",
       "pageInfo": {
        "resultsPerPage": 5,
        "totalResults": 1
       }
      },
      "text/plain": [
       "<IPython.core.display.JSON object>"
      ]
     },
     "execution_count": 3,
     "metadata": {
      "application/json": {
       "expanded": false,
       "root": "root"
      }
     },
     "output_type": "execute_result"
    }
   ],
   "source": [
    "api_service_name = \"youtube\"\n",
    "api_version = \"v3\"\n",
    "\n",
    "youtube = build(api_service_name, api_version, developerKey = yt_api)\n",
    "request = youtube.channels().list(part=\"snippet,contentDetails,statistics\",id=\"UC_x5XG1OV2P6uZZ5FSM9Ttw\")\n",
    "\n",
    "response = request.execute()\n",
    "JSON(response)"
   ]
  },
  {
   "cell_type": "code",
   "execution_count": null,
   "metadata": {
    "id": "A9_6O2chvGLJ"
   },
   "outputs": [],
   "source": []
  },
  {
   "cell_type": "code",
   "execution_count": 4,
   "metadata": {
    "id": "4uSf6KeXtJCc"
   },
   "outputs": [],
   "source": [
    "channel_id = 'UC_x5XG1OV2P6uZZ5FSM9Ttw'\n",
    "url = f'https://www.googleapis.com/youtube/v3/channels?part=snippet&id={channel_id}&key={yt_api}'\n",
    "\n",
    "response = requests.get(url)\n",
    "data = response.json()"
   ]
  },
  {
   "cell_type": "code",
   "execution_count": 5,
   "metadata": {
    "colab": {
     "base_uri": "https://localhost:8080/"
    },
    "id": "P1q4ldL3vJA1",
    "outputId": "b59f6049-112c-41ec-cfdc-6b9654d986e5"
   },
   "outputs": [
    {
     "name": "stdout",
     "output_type": "stream",
     "text": [
      "Channel Name: Google for Developers\n"
     ]
    }
   ],
   "source": [
    "if 'items' in data and len(data['items']) > 0:\n",
    "    channel_name = data['items'][0]['snippet']['title']\n",
    "    print(f\"Channel Name: {channel_name}\")\n",
    "else:\n",
    "    print(\"Channel not found or invalid API key.\")"
   ]
  },
  {
   "cell_type": "code",
   "execution_count": null,
   "metadata": {
    "id": "jDrPu4onwLiA"
   },
   "outputs": [],
   "source": [
    "# to extract the videos"
   ]
  },
  {
   "cell_type": "code",
   "execution_count": 8,
   "metadata": {
    "colab": {
     "base_uri": "https://localhost:8080/"
    },
    "id": "ckzdjzTRwnnC",
    "outputId": "7c6f8cf4-01b5-43e3-a6a3-fe991ad5723e"
   },
   "outputs": [
    {
     "name": "stdout",
     "output_type": "stream",
     "text": [
      "Title: AI-powered patient engagement - CareMessage and the Gemini API\n",
      "URL: https://www.youtube.com/watch?v=EysJTNLQVZw\n",
      "--------------------------------------------------\n",
      "Title: The #GoogleIO recap playlist is live. ✨\n",
      "URL: https://www.youtube.com/watch?v=B8Fdxdri0aQ\n",
      "--------------------------------------------------\n"
     ]
    }
   ],
   "source": [
    "channel_id = 'UC_x5XG1OV2P6uZZ5FSM9Ttw'\n",
    "channel_url = f'https://www.googleapis.com/youtube/v3/channels?part=contentDetails&id={channel_id}&key={yt_api}'\n",
    "\n",
    "channel_res = requests.get(channel_url).json()\n",
    "uploads_playlist_id = channel_res['items'][0]['contentDetails']['relatedPlaylists']['uploads']\n",
    "\n",
    "videos_url = f'https://www.googleapis.com/youtube/v3/playlistItems?part=snippet&playlistId={uploads_playlist_id}&maxResults=2&key={yt_api}'\n",
    "videos_res = requests.get(videos_url).json()\n",
    "\n",
    "for item in videos_res['items']:\n",
    "    video_title = item['snippet']['title']\n",
    "    video_id = item['snippet']['resourceId']['videoId']\n",
    "    video_url = f\"https://www.youtube.com/watch?v={video_id}\"\n",
    "    print(f\"Title: {video_title}\")\n",
    "    print(f\"URL: {video_url}\")\n",
    "    print(\"-\" * 50)"
   ]
  },
  {
   "cell_type": "code",
   "execution_count": 9,
   "metadata": {
    "colab": {
     "base_uri": "https://localhost:8080/",
     "height": 35
    },
    "id": "SuLKBlZTydr1",
    "outputId": "e94697fd-36f7-424d-b661-74ad295f774b"
   },
   "outputs": [
    {
     "data": {
      "application/vnd.google.colaboratory.intrinsic+json": {
       "type": "string"
      },
      "text/plain": [
       "'B8Fdxdri0aQ'"
      ]
     },
     "execution_count": 9,
     "metadata": {},
     "output_type": "execute_result"
    }
   ],
   "source": [
    "video_id"
   ]
  },
  {
   "cell_type": "code",
   "execution_count": null,
   "metadata": {
    "id": "FNN-o4kKyhx3"
   },
   "outputs": [],
   "source": []
  },
  {
   "cell_type": "code",
   "execution_count": 10,
   "metadata": {
    "id": "HMFN4a16w5mn"
   },
   "outputs": [],
   "source": [
    "# extracting video id from video url"
   ]
  },
  {
   "cell_type": "code",
   "execution_count": 11,
   "metadata": {
    "id": "IxuqpfeAxAg_"
   },
   "outputs": [],
   "source": [
    "def extract_video_id(url):\n",
    "    match = re.search(r\"(?:v=|\\/)([0-9A-Za-z_-]{11}).*\", url)\n",
    "    return match.group(1) if match else None"
   ]
  },
  {
   "cell_type": "code",
   "execution_count": 12,
   "metadata": {
    "colab": {
     "base_uri": "https://localhost:8080/",
     "height": 35
    },
    "id": "ju2PLEVayFG3",
    "outputId": "95ac44d7-8bff-4196-ca5e-d18b0a7438b8"
   },
   "outputs": [
    {
     "data": {
      "application/vnd.google.colaboratory.intrinsic+json": {
       "type": "string"
      },
      "text/plain": [
       "'nrakQhg_lf8'"
      ]
     },
     "execution_count": 12,
     "metadata": {},
     "output_type": "execute_result"
    }
   ],
   "source": [
    "url = 'https://www.youtube.com/watch?v=nrakQhg_lf8'\n",
    "video_id = extract_video_id(url)\n",
    "video_id"
   ]
  },
  {
   "cell_type": "code",
   "execution_count": 13,
   "metadata": {
    "id": "IG8GiYQ_yPor"
   },
   "outputs": [],
   "source": [
    "# to extract comments from the video"
   ]
  },
  {
   "cell_type": "code",
   "execution_count": 15,
   "metadata": {
    "colab": {
     "base_uri": "https://localhost:8080/"
    },
    "id": "bJXWMtHUyvGU",
    "outputId": "d8d9bed0-f0d4-491c-dcd7-e55aa3106d32"
   },
   "outputs": [
    {
     "name": "stdout",
     "output_type": "stream",
     "text": [
      "Comments for Video ID: D56_Cx36oGY\n",
      "\n",
      "1. @doodlelifebyTammy: i can&#39;t stress how thankful I am to have found your channel! You Explained everything so well!❤❤\n",
      "\n",
      "2. @naveethsuraj6214: is it ok to push our code with our API key to GIT?? or we need to make some change.\n",
      "\n",
      "3. @CultureofSpeech: Greetings 🤗 how is you data analysis going on now?\n",
      "\n",
      "4. @shanthankasula5503: If you get an error at <a href=\"https://www.youtube.com/watch?v=D56_Cx36oGY&amp;t=920\">15:20</a>...that&#39;s because we need to import parse library..<br><br>here is the code:<br><br>from dateutil import parser\n",
      "\n",
      "5. @shanthankasula5503: How did you get the id in video statistics? @<a href=\"https://www.youtube.com/watch?v=D56_Cx36oGY&amp;t=699\">11:39</a>\n",
      "\n"
     ]
    }
   ],
   "source": [
    "video_id = 'D56_Cx36oGY'\n",
    "comments_url = f\"https://www.googleapis.com/youtube/v3/commentThreads?part=snippet&videoId={video_id}&maxResults=5&key={yt_api}\"\n",
    "\n",
    "response = requests.get(comments_url)\n",
    "data = response.json()\n",
    "\n",
    "print(f\"Comments for Video ID: {video_id}\\n\")\n",
    "\n",
    "if \"items\" in data:\n",
    "    for i, item in enumerate(data[\"items\"], 1):\n",
    "        comment = item[\"snippet\"][\"topLevelComment\"][\"snippet\"][\"textDisplay\"]\n",
    "        author = item[\"snippet\"][\"topLevelComment\"][\"snippet\"][\"authorDisplayName\"]\n",
    "        print(f\"{i}. {author}: {comment}\\n\")\n",
    "else:\n",
    "    print(\"No comments found or the video might have comments disabled.\")"
   ]
  },
  {
   "cell_type": "code",
   "execution_count": null,
   "metadata": {
    "id": "6TCO2huty3V3"
   },
   "outputs": [],
   "source": []
  },
  {
   "cell_type": "markdown",
   "metadata": {
    "id": "nX8VLumLHUKd"
   },
   "source": [
    "## **Project**"
   ]
  },
  {
   "cell_type": "code",
   "execution_count": 16,
   "metadata": {
    "id": "z0seJjrz7_Bv"
   },
   "outputs": [],
   "source": [
    "from google.colab import userdata\n",
    "yt_api = userdata.get('youtube_api')"
   ]
  },
  {
   "cell_type": "code",
   "execution_count": 17,
   "metadata": {
    "colab": {
     "base_uri": "https://localhost:8080/",
     "height": 385,
     "referenced_widgets": [
      "8988c82ddc184938a2546e08d3bdd5a8",
      "cd82f30ee2d34fb19ec1adaad24c2aa0",
      "4b2eba2aa4874fe1a81650b2293ade78",
      "bd142c035f824ccf941b51efae02c7ad",
      "4356584ce94543788750417157952c89",
      "ebedca4c046e45a9b8cd2b173a30c818",
      "5df00f7ba89d44ceb31d30cc73278ce1",
      "5f8c46836ae54274ae90f434853aeb83",
      "baadca53097040269fb54e4af7eb0a94",
      "80a6a93513a7478c96df3c5b1b0dc66a",
      "a0d58b55d05146b9a0f814c808acc089",
      "192e271617624058a37160f62d69f7dd",
      "2f28af9a2e394b5a8968c711838b89f7",
      "e45b24d9e50f4545aaf6dcb9eea7438b",
      "c0c704f8a1254cc1919891001970ebea",
      "4b592b03a7e9462a947f8908b1510a1b",
      "29eb291d529f4702a194da6a510be15c",
      "38f404d1189c4c5695f6a3098301e7b9",
      "e54921bf2ebd41a181f17c94405ba725",
      "bf2804c160924882a2723c44a45b128e",
      "ac5f7f7e0d9b48e3970e06c45e8a1911",
      "4aab2b0e3f1b44a69e716417e8b29118",
      "f7ec0ee5807a476a9c5935551b61250e",
      "e4e8c06c31984d3abb28ae0a4f4db4c7",
      "b2fb2e6bb2194001b8ca5ced64d37988",
      "ed1367b598d44575a86af472515674f4",
      "40125be3818d453eb7d17de4dfaa094e",
      "b899e256dd6c47789ea58f73e538111a",
      "71f1db954c8b45a7868934e45913a593",
      "8e711ba831734ae68e273b73f15b8805",
      "1f39e19d24324574b6f6b19e7617f17e",
      "6254ebfd3e264adb9fd3c81453f3424b",
      "5d1a386d8eae4269a359bb27a35c7d25",
      "aba69cb98fc543fda7fe4df05b5a07a5",
      "eea48c5911fd446281edcc312edbee45",
      "1a0e08b3b4be4475aff49fb0b296487f",
      "bdecd11c229b4f6e8930e94068622c9f",
      "92954b070af4416a89775192c3172756",
      "265f5e61e5b140be8acd2ab8d83aba1c",
      "c81a2195bba1476d86beee8e73d1224e",
      "c6b6a16bb21e4ce89bb1e524da2da4d4",
      "7bab87491b854077b0dae871d57d4517",
      "b2b7a74d18c74b66a15cc4515fa23ddb",
      "1f40e62aefe14f8cad63329e1dc9d1bd",
      "538ba2e03c2e460faa6a3534ac2e1fd2",
      "7433ea112fcb4d3eae8d55bdfc8e5ccb",
      "3da714c00cc84bddb64bdccb5c96114a",
      "f3c80e675c4a4d5d9ac8a389526d34be",
      "c8a9e25f076d4e7e87b1a4ff017158c1",
      "2893d14df850434aa885008f9f0349b0",
      "94446dafdfba44f1afa163086dec9e54",
      "060802c1588245f1b123f502fa43acd6",
      "01a1eb1ced4041598995f28141118ce7",
      "99bea96be24949e7a991ff18ed9d3f7d",
      "5017438677bf44fd83e98d226833d968",
      "2bff7552c5bb41ae8114ffc94d04da45",
      "f75dc58f171a446299d616fffe97aa26",
      "d17bd61573964858af2fecc1a1a21349",
      "119ed85385d246c7a70c1efaad546707",
      "75ba8d6af89d4bf6ad2a1eac55e11e90",
      "1586a055ea21429daba7630c47266ebb",
      "235e15cc9dfc48a5ad45f7ae7fbe0f3a",
      "ee593ad33ba64003a45c86209c12f197",
      "8a07917f853842228b24ac478953f3de",
      "4a563045181c474b95805208a9e55f51",
      "595e14cb724a4b66a9739dd6145ab2a3"
     ]
    },
    "id": "Uh4nP90e8Ifo",
    "outputId": "3406887e-13b9-48cc-fd86-516a57f4a370"
   },
   "outputs": [
    {
     "name": "stderr",
     "output_type": "stream",
     "text": [
      "/usr/local/lib/python3.11/dist-packages/huggingface_hub/utils/_auth.py:94: UserWarning: \n",
      "The secret `HF_TOKEN` does not exist in your Colab secrets.\n",
      "To authenticate with the Hugging Face Hub, create a token in your settings tab (https://huggingface.co/settings/tokens), set it as secret in your Google Colab and restart your session.\n",
      "You will be able to reuse this secret in all of your notebooks.\n",
      "Please note that authentication is recommended but still optional to access public models or datasets.\n",
      "  warnings.warn(\n"
     ]
    },
    {
     "data": {
      "application/vnd.jupyter.widget-view+json": {
       "model_id": "8988c82ddc184938a2546e08d3bdd5a8",
       "version_major": 2,
       "version_minor": 0
      },
      "text/plain": [
       "config.json:   0%|          | 0.00/759 [00:00<?, ?B/s]"
      ]
     },
     "metadata": {},
     "output_type": "display_data"
    },
    {
     "name": "stderr",
     "output_type": "stream",
     "text": [
      "Xet Storage is enabled for this repo, but the 'hf_xet' package is not installed. Falling back to regular HTTP download. For better performance, install the package with: `pip install huggingface_hub[hf_xet]` or `pip install hf_xet`\n",
      "WARNING:huggingface_hub.file_download:Xet Storage is enabled for this repo, but the 'hf_xet' package is not installed. Falling back to regular HTTP download. For better performance, install the package with: `pip install huggingface_hub[hf_xet]` or `pip install hf_xet`\n"
     ]
    },
    {
     "data": {
      "application/vnd.jupyter.widget-view+json": {
       "model_id": "192e271617624058a37160f62d69f7dd",
       "version_major": 2,
       "version_minor": 0
      },
      "text/plain": [
       "model.safetensors:   0%|          | 0.00/541M [00:00<?, ?B/s]"
      ]
     },
     "metadata": {},
     "output_type": "display_data"
    },
    {
     "data": {
      "application/vnd.jupyter.widget-view+json": {
       "model_id": "f7ec0ee5807a476a9c5935551b61250e",
       "version_major": 2,
       "version_minor": 0
      },
      "text/plain": [
       "tokenizer_config.json:   0%|          | 0.00/373 [00:00<?, ?B/s]"
      ]
     },
     "metadata": {},
     "output_type": "display_data"
    },
    {
     "data": {
      "application/vnd.jupyter.widget-view+json": {
       "model_id": "aba69cb98fc543fda7fe4df05b5a07a5",
       "version_major": 2,
       "version_minor": 0
      },
      "text/plain": [
       "vocab.txt:   0%|          | 0.00/996k [00:00<?, ?B/s]"
      ]
     },
     "metadata": {},
     "output_type": "display_data"
    },
    {
     "data": {
      "application/vnd.jupyter.widget-view+json": {
       "model_id": "538ba2e03c2e460faa6a3534ac2e1fd2",
       "version_major": 2,
       "version_minor": 0
      },
      "text/plain": [
       "tokenizer.json:   0%|          | 0.00/2.92M [00:00<?, ?B/s]"
      ]
     },
     "metadata": {},
     "output_type": "display_data"
    },
    {
     "data": {
      "application/vnd.jupyter.widget-view+json": {
       "model_id": "2bff7552c5bb41ae8114ffc94d04da45",
       "version_major": 2,
       "version_minor": 0
      },
      "text/plain": [
       "special_tokens_map.json:   0%|          | 0.00/125 [00:00<?, ?B/s]"
      ]
     },
     "metadata": {},
     "output_type": "display_data"
    },
    {
     "name": "stderr",
     "output_type": "stream",
     "text": [
      "Device set to use cpu\n"
     ]
    }
   ],
   "source": [
    "# Load Sentiment Model\n",
    "sentiment_classifier = pipeline(model= \"lxyuan/distilbert-base-multilingual-cased-sentiments-student\", top_k=None)"
   ]
  },
  {
   "cell_type": "code",
   "execution_count": null,
   "metadata": {
    "id": "JQ9LXobB-37O"
   },
   "outputs": [],
   "source": []
  },
  {
   "cell_type": "code",
   "execution_count": null,
   "metadata": {
    "id": "pHyMRQWS8PZN"
   },
   "outputs": [],
   "source": [
    "def extract_video_id(url):\n",
    "  patterns = [\n",
    "    r\"(?:https?:\\/\\/)?(?:www\\.)?youtube\\.com\\/watch\\?v=([^&]+)\",\n",
    "    r\"(?:https?:\\/\\/)?(?:www\\.)?youtube\\.com\\/embed\\/([^?]+)\",\n",
    "    r\"(?:https?:\\/\\/)?(?:www\\.)?youtube\\.com\\/v\\/([^?]+)\",\n",
    "    r\"(?:https?:\\/\\/)?youtu\\.be\\/([^?]+)\"]\n",
    "\n",
    "  for pattern in patterns:\n",
    "    match = re.search(pattern, url)\n",
    "    if match:\n",
    "      return match.group(1)\n",
    "  return None"
   ]
  },
  {
   "cell_type": "code",
   "execution_count": null,
   "metadata": {
    "colab": {
     "base_uri": "https://localhost:8080/",
     "height": 35
    },
    "id": "cDsJxK60-dDD",
    "outputId": "91ca4f51-0eaa-4db0-8063-c3a1fce6151f"
   },
   "outputs": [
    {
     "data": {
      "application/vnd.google.colaboratory.intrinsic+json": {
       "type": "string"
      },
      "text/plain": [
       "'2HfSFdPEFRg'"
      ]
     },
     "execution_count": 89,
     "metadata": {},
     "output_type": "execute_result"
    }
   ],
   "source": [
    "# https://www.youtube.com/watch?v=D56_Cx36oGY\n",
    "extract_video_id('https://youtu.be/2HfSFdPEFRg?si=A0ksB3BWN6IlDCex')"
   ]
  },
  {
   "cell_type": "code",
   "execution_count": null,
   "metadata": {
    "id": "kbFGGLAE-n-1"
   },
   "outputs": [],
   "source": [
    "def get_video_title(video_id):\n",
    "  youtube = build(\"youtube\", \"v3\", developerKey=yt_api)\n",
    "  try:\n",
    "    request = youtube.videos().list(part=\"snippet\", id=video_id)\n",
    "    response = request.execute()\n",
    "    return response[\"items\"][0][\"snippet\"][\"title\"]\n",
    "  except:\n",
    "    return \"Unknown Title\""
   ]
  },
  {
   "cell_type": "code",
   "execution_count": null,
   "metadata": {
    "colab": {
     "base_uri": "https://localhost:8080/",
     "height": 35
    },
    "id": "BMJ8vF7_-5pg",
    "outputId": "e6db5753-563e-4ef8-83b4-a07ed6c3b887"
   },
   "outputs": [
    {
     "data": {
      "application/vnd.google.colaboratory.intrinsic+json": {
       "type": "string"
      },
      "text/plain": [
       "'How to use a Public API | Using a Public API with Python'"
      ]
     },
     "execution_count": 90,
     "metadata": {},
     "output_type": "execute_result"
    }
   ],
   "source": [
    "get_video_title('2HfSFdPEFRg')"
   ]
  },
  {
   "cell_type": "code",
   "execution_count": null,
   "metadata": {
    "id": "OaMdJpOr_Bec"
   },
   "outputs": [],
   "source": []
  },
  {
   "cell_type": "code",
   "execution_count": null,
   "metadata": {
    "id": "jyYuAmND_Ba4"
   },
   "outputs": [],
   "source": [
    "def get_comments(video_id, max_results= 2):\n",
    "  youtube = build(\"youtube\", \"v3\", developerKey=yt_api)\n",
    "  comments = []\n",
    "  next_page_token = None\n",
    "  try:\n",
    "    while len(comments) < max_results:\n",
    "        request = youtube.commentThreads().list(\n",
    "          part=\"snippet\",\n",
    "          videoId=video_id,\n",
    "          maxResults=min(100, max_results - len(comments)),\n",
    "          textFormat=\"plainText\",\n",
    "          pageToken=next_page_token\n",
    "        )\n",
    "        response = request.execute()\n",
    "        for item in response.get(\"items\", []):\n",
    "          comments.append(item[\"snippet\"][\"topLevelComment\"][\"snippet\"][\"textDisplay\"])\n",
    "        next_page_token = response.get(\"nextPageToken\")\n",
    "        if not next_page_token:\n",
    "          break\n",
    "  except Exception as e:\n",
    "      return [], str(e)\n",
    "  return comments, None"
   ]
  },
  {
   "cell_type": "code",
   "execution_count": null,
   "metadata": {
    "colab": {
     "base_uri": "https://localhost:8080/"
    },
    "id": "DZB1kCY6_elR",
    "outputId": "c9a614af-ff32-4295-8dba-70bed1140d1b"
   },
   "outputs": [
    {
     "data": {
      "text/plain": [
       "([\"I love the issue @Alex ran into with the notebook yelling at him for having too great a data rate. So real. Nothing ever goes smoothly (give the Sp*tify or T*cketmaster API a go), and it was nice to see he's human.  Great video!\",\n",
       "  'thank you so much man, im learning so much from this journey'],\n",
       " None)"
      ]
     },
     "execution_count": 107,
     "metadata": {},
     "output_type": "execute_result"
    }
   ],
   "source": [
    "video_id = '2HfSFdPEFRg'\n",
    "comments = get_comments(video_id)\n",
    "comments"
   ]
  },
  {
   "cell_type": "code",
   "execution_count": null,
   "metadata": {
    "colab": {
     "base_uri": "https://localhost:8080/"
    },
    "id": "IQk_GXlg_ehq",
    "outputId": "3a922283-4ef3-4e58-c121-42468952ce6a"
   },
   "outputs": [
    {
     "data": {
      "text/plain": [
       "[\"I love the issue @Alex ran into with the notebook yelling at him for having too great a data rate. So real. Nothing ever goes smoothly (give the Sp*tify or T*cketmaster API a go), and it was nice to see he's human.  Great video!\",\n",
       " 'thank you so much man, im learning so much from this journey']"
      ]
     },
     "execution_count": 110,
     "metadata": {},
     "output_type": "execute_result"
    }
   ],
   "source": [
    "comments[0]"
   ]
  },
  {
   "cell_type": "code",
   "execution_count": null,
   "metadata": {
    "id": "FoDwfmrU_efJ"
   },
   "outputs": [],
   "source": [
    "def analyze_sentiment(comments):\n",
    "  results = []\n",
    "  counts = {\"positive\": 0, \"neutral\": 0, \"negative\": 0}\n",
    "  all_sentiments = sentiment_classifier(comments, batch_size=8)\n",
    "  for comment, scores in zip(comments, all_sentiments):\n",
    "    sentiment = max(scores, key=lambda x: x[\"score\"])\n",
    "    label = sentiment[\"label\"]\n",
    "    results.append({\"Comment\": comment, \"Sentiment\": label, \"Score\": sentiment[\"score\"]})\n",
    "    counts[label] += 1\n",
    "  return results, counts"
   ]
  },
  {
   "cell_type": "code",
   "execution_count": null,
   "metadata": {
    "colab": {
     "base_uri": "https://localhost:8080/"
    },
    "id": "IJwFGr8c_ec2",
    "outputId": "4f94032c-5298-49ef-c75e-086e081efed1"
   },
   "outputs": [
    {
     "data": {
      "text/plain": [
       "([{'Comment': \"I love the issue @Alex ran into with the notebook yelling at him for having too great a data rate. So real. Nothing ever goes smoothly (give the Sp*tify or T*cketmaster API a go), and it was nice to see he's human.  Great video!\",\n",
       "   'Sentiment': 'positive',\n",
       "   'Score': 0.8595536351203918},\n",
       "  {'Comment': 'thank you so much man, im learning so much from this journey',\n",
       "   'Sentiment': 'positive',\n",
       "   'Score': 0.875322163105011}],\n",
       " {'positive': 2, 'neutral': 0, 'negative': 0})"
      ]
     },
     "execution_count": 111,
     "metadata": {},
     "output_type": "execute_result"
    }
   ],
   "source": [
    "analyze_sentiment(comments[0])"
   ]
  },
  {
   "cell_type": "code",
   "execution_count": null,
   "metadata": {
    "id": "TkFmA1EWCwgg"
   },
   "outputs": [],
   "source": []
  }
 ],
 "metadata": {
  "colab": {
   "provenance": []
  },
  "kernelspec": {
   "display_name": "Python 3",
   "name": "python3"
  },
  "language_info": {
   "name": "python"
  }
 },
 "nbformat": 4,
 "nbformat_minor": 0
}
